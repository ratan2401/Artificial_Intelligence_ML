{
 "cells": [
  {
   "cell_type": "code",
   "execution_count": null,
   "metadata": {},
   "outputs": [
    {
     "name": "stdout",
     "output_type": "stream",
     "text": [
      "List: [72, 21, 62, 56, 58, 96, 36, 77, 16, 43]\n",
      "Second largest: 77\n",
      "Second smallest: 21\n"
     ]
    }
   ],
   "source": [
    "#1 Program to find largest and second largest\n",
    "import random\n",
    "nums = [random.randint(1, 100) for _ in range(10)]\n",
    "print(\"List:\", nums)\n",
    "largest = max(nums)\n",
    "smallest = min(nums)\n",
    "nums_wo_largest = [x for x in nums if x != largest]\n",
    "nums_wo_smallest = [x for x in nums if x != smallest]\n",
    "\n",
    "if nums_wo_largest:\n",
    "    second_largest = max(nums_wo_largest)\n",
    "else:\n",
    "    second_largest = None\n",
    "\n",
    "if nums_wo_smallest:\n",
    "    second_smallest = min(nums_wo_smallest)\n",
    "else:\n",
    "    second_smallest = None\n",
    "\n",
    "print(\"Second largest:\", second_largest)\n",
    "print(\"Second smallest:\", second_smallest)"
   ]
  },
  {
   "cell_type": "code",
   "execution_count": null,
   "metadata": {},
   "outputs": [
    {
     "name": "stdout",
     "output_type": "stream",
     "text": [
      "Character frequencies (descending order):\n",
      "'a': 1\n",
      "'b': 1\n",
      "'c': 1\n"
     ]
    }
   ],
   "source": [
    "#2 Program to count character frequency and display in descending order\n",
    "s = input(\"Enter a string: \")\n",
    "freq = {}\n",
    "for char in s:\n",
    "    freq[char] = freq.get(char, 0) + 1\n",
    "sorted_freq = sorted(freq.items(), key=lambda x: x[1], reverse=True)\n",
    "print(\"Character frequencies (descending order):\")\n",
    "for char, count in sorted_freq:\n",
    "    print(f\"'{char}': {count}\")"
   ]
  },
  {
   "cell_type": "code",
   "execution_count": null,
   "metadata": {},
   "outputs": [
    {
     "name": "stdout",
     "output_type": "stream",
     "text": [
      "Enter elements for a 3x3 matrix (row-wise, separated by spaces):\n",
      "Please enter exactly 3 integers.\n",
      "Please enter exactly 3 integers.\n",
      "Please enter exactly 3 integers.\n",
      "Please enter exactly 3 integers.\n",
      "Please enter exactly 3 integers.\n",
      "Please enter exactly 3 integers.\n",
      "Enter elements for a 3x3 matrix (row-wise, separated by spaces):\n",
      "Enter elements for a 3x3 matrix (row-wise, separated by spaces):\n",
      "Matrix A:\n",
      "[1, 2, 3]\n",
      "[4, 5, 6]\n",
      "[7, 8, 9]\n",
      "Matrix B:\n",
      "[1, 2, 3]\n",
      "[4, 5, 6]\n",
      "[7, 8, 9]\n",
      "Sum:\n",
      "[2, 4, 6]\n",
      "[8, 10, 12]\n",
      "[14, 16, 18]\n",
      "Difference:\n",
      "[0, 0, 0]\n",
      "[0, 0, 0]\n",
      "[0, 0, 0]\n",
      "Element-wise Multiplication:\n",
      "[1, 4, 9]\n",
      "[16, 25, 36]\n",
      "[49, 64, 81]\n",
      "Matrix A:\n",
      "[1, 2, 3]\n",
      "[4, 5, 6]\n",
      "[7, 8, 9]\n",
      "Matrix B:\n",
      "[1, 2, 3]\n",
      "[4, 5, 6]\n",
      "[7, 8, 9]\n",
      "Sum:\n",
      "[2, 4, 6]\n",
      "[8, 10, 12]\n",
      "[14, 16, 18]\n",
      "Difference:\n",
      "[0, 0, 0]\n",
      "[0, 0, 0]\n",
      "[0, 0, 0]\n",
      "Element-wise Multiplication:\n",
      "[1, 4, 9]\n",
      "[16, 25, 36]\n",
      "[49, 64, 81]\n"
     ]
    }
   ],
   "source": [
    "#3 Program to create two 3x3 matrices and compute sum, difference, and element-wise multiplication\n",
    "def input_matrix(n):\n",
    "    print(f\"Enter elements for a {n}x{n} matrix (row-wise, separated by spaces):\")\n",
    "    matrix = []\n",
    "    for i in range(n):\n",
    "        row = list(map(int, input(f\"Row {i+1}: \").split()))\n",
    "        while len(row) != n:\n",
    "            print(f\"Please enter exactly {n} integers.\")\n",
    "            row = list(map(int, input(f\"Row {i+1}: \").split()))\n",
    "        matrix.append(row)\n",
    "    return matrix\n",
    "\n",
    "def print_matrix(mat, name):\n",
    "    print(f\"{name}:\")\n",
    "    for row in mat:\n",
    "        print(row)\n",
    "\n",
    "n = 3\n",
    "A = input_matrix(n)\n",
    "B = input_matrix(n)\n",
    "\n",
    "sum_mat = [[A[i][j] + B[i][j] for j in range(n)] for i in range(n)]\n",
    "diff_mat = [[A[i][j] - B[i][j] for j in range(n)] for i in range(n)]\n",
    "mul_mat = [[A[i][j] * B[i][j] for j in range(n)] for i in range(n)]\n",
    "\n",
    "print_matrix(A, \"Matrix A\")\n",
    "print_matrix(B, \"Matrix B\")\n",
    "print_matrix(sum_mat, \"Sum\")\n",
    "print_matrix(diff_mat, \"Difference\")\n",
    "print_matrix(mul_mat, \"Element-wise Multiplication\")"
   ]
  },
  {
   "cell_type": "code",
   "execution_count": null,
   "metadata": {},
   "outputs": [],
   "source": [
    "# Problem 4: Unique elements in a list\n",
    "lst = list(map(int, input(\"Enter 10 integers (space-separated, duplicates allowed): \").split()))\n",
    "while len(lst) != 10:\n",
    "    print(\"Please enter exactly 10 integers.\")\n",
    "    lst = list(map(int, input(\"Enter 10 integers (space-separated, duplicates allowed): \").split()))\n",
    "unique_elements = list(set(lst))\n",
    "print(\"Unique elements:\", unique_elements)\n"
   ]
  },
  {
   "cell_type": "code",
   "execution_count": null,
   "metadata": {},
   "outputs": [],
   "source": [
    "# Problem 5: List comprehensions\n",
    "squares_of_odds = [x**2 for x in range(1, 51) if x % 2 == 1]\n",
    "div_by_3_strs = [str(x) for x in range(1, 21) if x % 3 == 0]\n",
    "print(\"Squares of odd numbers between 1 and 50:\", squares_of_odds)\n",
    "print(\"Strings of numbers divisible by 3 between 1 and 20:\", div_by_3_strs)\n"
   ]
  },
  {
   "cell_type": "code",
   "execution_count": null,
   "metadata": {},
   "outputs": [],
   "source": [
    "# Problem 6: Dictionary price analysis\n",
    "d = {}\n",
    "n = int(input(\"Enter number of items: \"))\n",
    "for _ in range(n):\n",
    "    item, price = input(\"Enter item and price (space-separated): \").split()\n",
    "    d[item] = float(price)\n",
    "max_item = max(d, key=d.get)\n",
    "min_item = min(d, key=d.get)\n",
    "avg_price = sum(d.values()) / len(d)\n",
    "print(f\"Item with highest price: {max_item} ({d[max_item]})\")\n",
    "print(f\"Item with lowest price: {min_item} ({d[min_item]})\")\n",
    "print(f\"Average price: {avg_price}\")\n"
   ]
  },
  {
   "cell_type": "code",
   "execution_count": null,
   "metadata": {},
   "outputs": [],
   "source": [
    "# Problem 7: Tuple to list, replace odds, back to tuple\n",
    "tup = tuple(map(int, input(\"Enter 10 numbers (space-separated): \").split()))\n",
    "while len(tup) != 10:\n",
    "    print(\"Please enter exactly 10 numbers.\")\n",
    "    tup = tuple(map(int, input(\"Enter 10 numbers (space-separated): \").split()))\n",
    "lst = list(tup)\n",
    "lst = [-1 if x % 2 == 1 else x for x in lst]\n",
    "new_tup = tuple(lst)\n",
    "print(\"Modified tuple:\", new_tup)\n"
   ]
  },
  {
   "cell_type": "code",
   "execution_count": null,
   "metadata": {},
   "outputs": [],
   "source": [
    "# Problem 8: Reverse lookup in dictionary\n",
    "d = {}\n",
    "n = int(input(\"Enter number of students: \"))\n",
    "for _ in range(n):\n",
    "    name, mark = input(\"Enter name and mark (space-separated): \").split()\n",
    "    d[name] = int(mark)\n",
    "search_mark = int(input(\"Enter mark to search for: \"))\n",
    "names = [name for name, mark in d.items() if mark == search_mark]\n",
    "print(\"Names with mark\", search_mark, \":\", names)\n"
   ]
  },
  {
   "cell_type": "code",
   "execution_count": null,
   "metadata": {},
   "outputs": [],
   "source": [
    "# Problem 9: Primes between two numbers\n",
    "def is_prime(num):\n",
    "    if num < 2:\n",
    "        return False\n",
    "    for i in range(2, int(num**0.5)+1):\n",
    "        if num % i == 0:\n",
    "            return False\n",
    "    return True\n",
    "start, end = map(int, input(\"Enter two numbers (start end): \").split())\n",
    "primes = [x for x in range(start, end+1) if is_prime(x)]\n",
    "print(f\"Count of primes: {len(primes)}\")\n",
    "print(\"Primes:\", primes)\n"
   ]
  },
  {
   "cell_type": "code",
   "execution_count": null,
   "metadata": {},
   "outputs": [],
   "source": [
    "# Problem 10: Palindromic strings\n",
    "lst = input(\"Enter strings separated by spaces: \").split()\n",
    "palindromes = [s for s in lst if s == s[::-1]]\n",
    "print(\"Palindromic strings:\", palindromes)\n"
   ]
  },
  {
   "cell_type": "code",
   "execution_count": null,
   "metadata": {},
   "outputs": [],
   "source": [
    "# Problem 11: Second largest without sorting\n",
    "lst = list(map(int, input(\"Enter numbers separated by spaces: \").split()))\n",
    "first = second = float('-inf')\n",
    "for num in lst:\n",
    "    if num > first:\n",
    "        second = first\n",
    "        first = num\n",
    "    elif num > second and num != first:\n",
    "        second = num\n",
    "print(\"The second largest number is:\", second)\n"
   ]
  },
  {
   "cell_type": "code",
   "execution_count": null,
   "metadata": {},
   "outputs": [],
   "source": [
    "# Problem 12: Fibonacci sequence\n",
    "n = int(input(\"Enter the number of terms for Fibonacci sequence: \"))\n",
    "fib = [0, 1]\n",
    "for i in range(2, n):\n",
    "    fib.append(fib[-1] + fib[-2])\n",
    "print(f\"The first {n} terms of Fibonacci sequence are:\", fib[:n])\n"
   ]
  },
  {
   "cell_type": "code",
   "execution_count": 7,
   "metadata": {},
   "outputs": [
    {
     "name": "stdout",
     "output_type": "stream",
     "text": [
      "The merged sorted list is: [1, 2, 3, 7, 8, 9]\n"
     ]
    }
   ],
   "source": [
    "# Problem 13: Merge two sorted lists without sorting\n",
    "lst1 = list(map(int, input(\"Enter first sorted list: \").split()))\n",
    "lst2 = list(map(int, input(\"Enter second sorted list: \").split()))\n",
    "i = j = 0\n",
    "merged = []\n",
    "while i < len(lst1) and j < len(lst2):\n",
    "    if lst1[i] < lst2[j]:\n",
    "        merged.append(lst1[i])\n",
    "        i += 1\n",
    "    else:\n",
    "        merged.append(lst2[j])\n",
    "        j += 1\n",
    "merged.extend(lst1[i:])\n",
    "merged.extend(lst2[j:])\n",
    "print(\"The merged sorted list is:\", merged)\n"
   ]
  }
 ],
 "metadata": {
  "kernelspec": {
   "display_name": "Python 3",
   "language": "python",
   "name": "python3"
  },
  "language_info": {
   "codemirror_mode": {
    "name": "ipython",
    "version": 3
   },
   "file_extension": ".py",
   "mimetype": "text/x-python",
   "name": "python",
   "nbconvert_exporter": "python",
   "pygments_lexer": "ipython3",
   "version": "3.13.3"
  }
 },
 "nbformat": 4,
 "nbformat_minor": 2
}
